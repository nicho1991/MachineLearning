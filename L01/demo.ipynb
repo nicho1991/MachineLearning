{
 "cells": [
  {
   "cell_type": "markdown",
   "metadata": {},
   "source": [
    "# Lesson 01\n",
    "## Mini Python Demo\n",
    "\n",
    "\n",
    "REVISIONS|\n",
    "---------|-------------------------------\n",
    "2019-0128|CEF, initial. \n",
    "\n",
    "\n",
    "### Mini Python/Jupyternotebook demo\n",
    "\n",
    "Build-in python array an Numpy arrays..."
   ]
  },
  {
   "cell_type": "code",
   "execution_count": 1,
   "metadata": {},
   "outputs": [
    {
     "name": "stdout",
     "output_type": "stream",
     "text": [
      "x = [[1, 2, 3], [4, 5, 5]]\n",
      "\n",
      "y=[[                 1                  2                  3\n",
      "                   4]\n",
      " [                10                 20                 30\n",
      "  400041123123213122]]\n",
      "\n",
      "y.dtype=int64, y.itemsize=8\n",
      "\n",
      "indexing...\n",
      "2\n",
      "4\n",
      "3\n",
      "[ 2 20]\n"
     ]
    }
   ],
   "source": [
    "%reset -sf\n",
    "\n",
    "# import clause, imports numpy as the name 'np'\n",
    "import numpy as np\n",
    "\n",
    "# python build-in array\n",
    "x=[[1,2,3],[4,5,5]]\n",
    "\n",
    "# print using print-f-syntax\n",
    "print(f'x = {x}')\n",
    "print()\n",
    "\n",
    "# create a numpy array\n",
    "y=np.array([[1,2,3,4], [10, 20, 30, 400041123123213122]])\n",
    "\n",
    "print(f'y={y}')\n",
    "print()\n",
    "print(f'y.dtype={y.dtype}, y.itemsize={y.itemsize}')\n",
    "print()\n",
    "\n",
    "print(\"indexing...\")\n",
    "print(y[0,1])  \n",
    "print(y[0,-1])\n",
    "print(y[0,-2])\n",
    "\n",
    "# print a column\n",
    "print(y[:,1])"
   ]
  },
  {
   "cell_type": "markdown",
   "metadata": {},
   "source": [
    "#### Matrix multiplication\n"
   ]
  },
  {
   "cell_type": "code",
   "execution_count": 2,
   "metadata": {},
   "outputs": [],
   "source": [
    "y=np.array([[1,2,3,4], [10, 20, 30, 40]])\n",
    "x=np.transpose(y)\n",
    "\n",
    "#z=y*x\n",
    "#print(f'the *-operator is not multiplication, z={z}')\n",
    "\n",
    "z=np.dot(y,x)\n",
    "print(f'the dot product, np.dot(y,x)={z}')\n",
    "\n",
    "# matrix type rarely use (unfortunatly)\n",
    "my=np.matrix(y)\n",
    "mx=np.matrix(x)\n",
    "mz=my*mx;\n",
    "\n",
    "print(f'matrix type mult: my*mx={mz}')"
   ]
  },
  {
   "cell_type": "markdown",
   "metadata": {},
   "source": [
    "#### Writing pythonic,robust code\n",
    "\n",
    "Range-checks and fail-fast..."
   ]
  },
  {
   "cell_type": "code",
   "execution_count": 3,
   "metadata": {},
   "outputs": [
    {
     "name": "stdout",
     "output_type": "stream",
     "text": [
      "writing pythonic,robust code: range-checks and fail-fast...\n",
      "[10 20 30 40]\n"
     ]
    }
   ],
   "source": [
    "import sys, traceback\n",
    "\n",
    "print(\"writing pythonic,robust code: range-checks and fail-fast...\")\n",
    "\n",
    "# python do all kinds of range-checks: robust coding\n",
    "#print(y[:,-5]) # will throw!\n",
    "\n",
    "\n",
    "try:\n",
    "    print(y[1])  \n",
    "except IndexError as e:\n",
    "    print(f\"cauth exception e={e}\")\n",
    "    traceback.print_exc(file=sys.stdout)\n",
    "    \n",
    "    print(e)"
   ]
  }
 ],
 "metadata": {
  "kernelspec": {
   "display_name": "Python 3",
   "language": "python",
   "name": "python3"
  },
  "language_info": {
   "codemirror_mode": {
    "name": "ipython",
    "version": 3
   },
   "file_extension": ".py",
   "mimetype": "text/x-python",
   "name": "python",
   "nbconvert_exporter": "python",
   "pygments_lexer": "ipython3",
   "version": "3.7.1"
  },
  "toc": {
   "base_numbering": 1,
   "nav_menu": {},
   "number_sections": true,
   "sideBar": true,
   "skip_h1_title": false,
   "title_cell": "Table of Contents",
   "title_sidebar": "Contents",
   "toc_cell": false,
   "toc_position": {},
   "toc_section_display": true,
   "toc_window_display": false
  }
 },
 "nbformat": 4,
 "nbformat_minor": 2
}
