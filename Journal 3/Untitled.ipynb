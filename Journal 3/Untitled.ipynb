{
 "cells": [
  {
   "cell_type": "code",
   "execution_count": 135,
   "metadata": {},
   "outputs": [],
   "source": [
    "# Define the object we use\n",
    "class geminiData:\n",
    "    GainLoss = 0\n",
    "    Variance = 0\n",
    "    Volume   = 0\n",
    "    Hour     = 0\n",
    "    Day      = 0\n",
    "\n",
    "geminiDatas = []"
   ]
  },
  {
   "cell_type": "code",
   "execution_count": 136,
   "metadata": {},
   "outputs": [
    {
     "name": "stdout",
     "output_type": "stream",
     "text": [
      "Processed 31190 lines.\n"
     ]
    }
   ],
   "source": [
    "# reference to this https://realpython.com/python-csv/\n",
    "import csv\n",
    "\n",
    "with open ('GEMINI_BTC.csv') as csv_file:\n",
    "    csv_reader = csv.reader(csv_file, delimiter=',')\n",
    "    line_count = 0\n",
    "    for row in csv_reader:\n",
    "        if line_count >= 2:\n",
    "            line_count += 1\n",
    "            #1: Date\n",
    "            #2: Symbol\n",
    "            #3: Open\n",
    "            #4: High\n",
    "            #5: Low\n",
    "            #6: Close\n",
    "            #7: Volume\n",
    "            \n",
    "            # Gain loss\n",
    "            temp = geminiData()\n",
    "            temp.GainLoss = float(row[3]) - float(row[6])\n",
    "            # Variance\n",
    "            temp.Variance = float(row[4]) - float(row[5])\n",
    "            # Volume \n",
    "            temp.Volume = int (row[7].replace(\".\" , \"\"))\n",
    "            # Hour\n",
    "            temp.Hour = row[1].split(\" \")[1].split(\":\")[0]\n",
    "            # Day\n",
    "            temp.Day = row[1].split(\" \")[0].split(\"-\")[2]\n",
    "            \n",
    "            geminiDatas.append(temp) \n",
    "        else:\n",
    "            line_count += 1\n",
    "    print(f'Processed {line_count} lines.')\n",
    "    "
   ]
  },
  {
   "cell_type": "code",
   "execution_count": 139,
   "metadata": {},
   "outputs": [
    {
     "name": "stdout",
     "output_type": "stream",
     "text": [
      "00\n"
     ]
    }
   ],
   "source": []
  },
  {
   "cell_type": "code",
   "execution_count": null,
   "metadata": {},
   "outputs": [],
   "source": []
  },
  {
   "cell_type": "code",
   "execution_count": null,
   "metadata": {},
   "outputs": [],
   "source": []
  },
  {
   "cell_type": "code",
   "execution_count": null,
   "metadata": {},
   "outputs": [],
   "source": []
  },
  {
   "cell_type": "code",
   "execution_count": null,
   "metadata": {},
   "outputs": [],
   "source": []
  },
  {
   "cell_type": "code",
   "execution_count": null,
   "metadata": {},
   "outputs": [],
   "source": []
  }
 ],
 "metadata": {
  "kernelspec": {
   "display_name": "Python 3",
   "language": "python",
   "name": "python3"
  },
  "language_info": {
   "codemirror_mode": {
    "name": "ipython",
    "version": 3
   },
   "file_extension": ".py",
   "mimetype": "text/x-python",
   "name": "python",
   "nbconvert_exporter": "python",
   "pygments_lexer": "ipython3",
   "version": "3.7.3"
  }
 },
 "nbformat": 4,
 "nbformat_minor": 2
}
