{
 "cells": [
  {
   "cell_type": "code",
   "execution_count": 135,
   "metadata": {},
   "outputs": [],
   "source": [
    "# Define the object we use\n",
    "class geminiData:\n",
    "    GainLoss = 0\n",
    "    Variance = 0\n",
    "    Volume   = 0\n",
    "    Hour     = 0\n",
    "    Day      = 0\n",
    "\n",
    "geminiDatas = []"
   ]
  },
  {
   "cell_type": "code",
   "execution_count": 136,
   "metadata": {},
   "outputs": [
    {
     "name": "stdout",
     "output_type": "stream",
     "text": [
      "Processed 31190 lines.\n"
     ]
    }
   ],
   "source": [
    "# reference to this https://realpython.com/python-csv/\n",
    "import csv\n",
    "\n",
    "with open ('GEMINI_BTC.csv') as csv_file:\n",
    "    csv_reader = csv.reader(csv_file, delimiter=',')\n",
    "    line_count = 0\n",
    "    for row in csv_reader:\n",
    "        if line_count >= 2:\n",
    "            line_count += 1\n",
    "            #1: Date\n",
    "            #2: Symbol\n",
    "            #3: Open\n",
    "            #4: High\n",
    "            #5: Low\n",
    "            #6: Close\n",
    "            #7: Volume\n",
    "            \n",
    "            # Gain loss\n",
    "            temp = geminiData()\n",
    "            temp.GainLoss = float(row[3]) - float(row[6])\n",
    "            # Variance\n",
    "            temp.Variance = float(row[4]) - float(row[5])\n",
    "            # Volume \n",
    "            temp.Volume = int (row[7].replace(\".\" , \"\"))\n",
    "            # Hour\n",
    "            temp.Hour = row[1].split(\" \")[1].split(\":\")[0]\n",
    "            # Day\n",
    "            temp.Day = row[1].split(\" \")[0].split(\"-\")[2]\n",
    "            \n",
    "            geminiDatas.append(temp) \n",
    "        else:\n",
    "            line_count += 1\n",
    "    print(f'Processed {line_count} lines.')\n",
    "    "
   ]
  },
  {
   "cell_type": "code",
   "execution_count": 139,
   "metadata": {},
   "outputs": [
    {
     "name": "stdout",
     "output_type": "stream",
     "text": [
      "00\n"
     ]
    }
   ],
   "source": []
  },
  {
   "cell_type": "code",
   "execution_count": null,
   "metadata": {},
   "outputs": [],
   "source": []
  },
  {
   "cell_type": "code",
   "execution_count": null,
   "metadata": {},
   "outputs": [],
   "source": []
  },
  {
   "cell_type": "code",
   "execution_count": 2,
   "metadata": {},
   "outputs": [
    {
     "ename": "ModuleNotFoundError",
     "evalue": "No module named 'tensorflow'",
     "output_type": "error",
     "traceback": [
      "\u001b[1;31m---------------------------------------------------------------------------\u001b[0m",
      "\u001b[1;31mModuleNotFoundError\u001b[0m                       Traceback (most recent call last)",
      "\u001b[1;32m<ipython-input-2-b9eb9fee830c>\u001b[0m in \u001b[0;36m<module>\u001b[1;34m\u001b[0m\n\u001b[1;32m----> 1\u001b[1;33m \u001b[1;32mfrom\u001b[0m \u001b[0mtensorflow\u001b[0m\u001b[1;33m.\u001b[0m\u001b[0mcontrib\u001b[0m\u001b[1;33m.\u001b[0m\u001b[0mlayers\u001b[0m \u001b[1;32mimport\u001b[0m \u001b[0mfully_connected\u001b[0m\u001b[1;33m\u001b[0m\u001b[1;33m\u001b[0m\u001b[0m\n\u001b[0m\u001b[0;32m      2\u001b[0m \u001b[1;33m\u001b[0m\u001b[0m\n\u001b[0;32m      3\u001b[0m \u001b[0mn_steps\u001b[0m \u001b[1;33m=\u001b[0m \u001b[1;36m28\u001b[0m \u001b[1;31m#input parameter\u001b[0m\u001b[1;33m\u001b[0m\u001b[1;33m\u001b[0m\u001b[0m\n\u001b[0;32m      4\u001b[0m \u001b[0mn_inputs\u001b[0m \u001b[1;33m=\u001b[0m \u001b[1;36m28\u001b[0m \u001b[1;31m# numbers of inputs\u001b[0m\u001b[1;33m\u001b[0m\u001b[1;33m\u001b[0m\u001b[0m\n\u001b[0;32m      5\u001b[0m \u001b[0mn_neurons\u001b[0m \u001b[1;33m=\u001b[0m \u001b[1;36m150\u001b[0m\u001b[1;33m\u001b[0m\u001b[1;33m\u001b[0m\u001b[0m\n",
      "\u001b[1;31mModuleNotFoundError\u001b[0m: No module named 'tensorflow'"
     ]
    }
   ],
   "source": [
    "import tensorflow as tf\n",
    "\n",
    "n_steps = 20\n",
    "n_inputs = 7\n",
    "n_neurons = 100\n",
    "n_outputs = 1\n",
    "learning_rate = 0.001\n",
    "\n",
    "X = tf.placeholder(tf.float32, [None, n_steps, n_inputs])\n",
    "y = tf.placeholder(tf.int32, [None])\n",
    "lstm_cell = tf.contrib.rnn.BasicLSTMCell(num_units=n_neurons)\n",
    "\n",
    "#dynamic_rnn to better use of GPU. could set swap_memory=true to avoid OOM errors\n",
    "rnn_outputs, states = tf.nn.dynamic_rnn(lstm_cell, X, dtype=tf.float32) # tf.nn.dynamic_rnn(basic_cell, X, dtype=tf.float32, swap_memory=true)\n",
    "\n",
    "stacked_rnn_outputs = tf.reshape(rnn_outputs, [-1, n_neurons])\n",
    "stacked_outputs = fully_connected(stacked_rnn_outputs, n_outputs,\n",
    "activation_fn=None)\n",
    "outputs = tf.reshape(stacked_outputs, [-1, n_steps, n_outputs])\n",
    "\n",
    "logits = fully_connected(states, n_outputs, activation_fn=None)\n",
    "\n",
    "loss = tf.reduce_mean(tf.square(outputs - y))\n",
    "optimizer = tf.train.AdamOptimizer(learning_rate=learning_rate)\n",
    "training_op = optimizer.minimize(loss)\n",
    "correct = tf.nn.in_top_k(logits, y, 1)\n",
    "accuracy = tf.reduce_mean(tf.cast(correct, tf.float32))\n",
    "init = tf.global_variables_initializer()"
   ]
  },
  {
   "cell_type": "code",
   "execution_count": null,
   "metadata": {},
   "outputs": [],
   "source": [
    "n_iterations = 10000\n",
    "batch_size = 50\n",
    "with tf.Session() as sess:\n",
    "init.run()\n",
    "for iteration in range(n_iterations):\n",
    "X_batch, y_batch = [...] # fetch the next training batch\n",
    "sess.run(training_op, feed_dict={X: X_batch, y: y_batch})\n",
    "if iteration % 100 == 0:\n",
    "mse = loss.eval(feed_dict={X: X_batch, y: y_batch})\n",
    "print(iteration, \"\\tMSE:\", mse)"
   ]
  },
  {
   "cell_type": "code",
   "execution_count": null,
   "metadata": {},
   "outputs": [],
   "source": []
  }
 ],
 "metadata": {
  "kernelspec": {
   "display_name": "Python 3",
   "language": "python",
   "name": "python3"
  },
  "language_info": {
   "codemirror_mode": {
    "name": "ipython",
    "version": 3
   },
   "file_extension": ".py",
   "mimetype": "text/x-python",
   "name": "python",
   "nbconvert_exporter": "python",
   "pygments_lexer": "ipython3",
   "version": "3.7.1"
  }
 },
 "nbformat": 4,
 "nbformat_minor": 2
}
