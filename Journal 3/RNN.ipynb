{
 "cells": [
  {
   "cell_type": "code",
   "execution_count": 2,
   "metadata": {},
   "outputs": [],
   "source": [
    "import numpy as np\n",
    "import tensorflow as tf\n",
    "\n",
    "import matplotlib.pyplot as plt"
   ]
  },
  {
   "cell_type": "code",
   "execution_count": null,
   "metadata": {},
   "outputs": [],
   "source": []
  },
  {
   "cell_type": "code",
   "execution_count": 3,
   "metadata": {},
   "outputs": [],
   "source": [
    "# Define the object we use\n",
    "import matplotlib.dates as dates\n",
    "from datetime import datetime\n",
    "\n",
    "class geminiData:\n",
    "    GainLoss = 0\n",
    "    Variance = 0\n",
    "    Volume   = 0\n",
    "    Hour     = 0\n",
    "    Day      = 0\n",
    "    Date     = 0;\n",
    "    OpenPrice = 0\n",
    "    ClosePrice = 0\n",
    "\n",
    "geminiDatas = []\n",
    "\n",
    "class preBubble:\n",
    "    GainLoss = 0\n",
    "    Variance = 0\n",
    "    Volume   = 0\n",
    "    Hour     = 0\n",
    "    Day      = 0\n",
    "    Date     = 0;\n",
    "\n",
    "preBubble = []\n",
    "\n",
    "geminiX = np.empty([0,1])"
   ]
  },
  {
   "cell_type": "code",
   "execution_count": 104,
   "metadata": {},
   "outputs": [],
   "source": [
    "# reference to this https://realpython.com/python-csv/\n",
    "import csv\n",
    "from numpy import empty\n",
    "import numpy as np\n",
    "\n",
    "with open ('GEMINI_BTC.csv') as csv_file:\n",
    "    \n",
    "    csv_reader = csv.reader(csv_file, delimiter=',')\n",
    "    line_count = 0\n",
    "    x = 0\n",
    "    innerbatch = []\n",
    "    batches = []\n",
    "    for row in csv_reader:\n",
    "        if line_count >= 2:\n",
    "            line_count += 1\n",
    "            #1: Date\n",
    "            #2: Symbol\n",
    "            #3: Open\n",
    "            #4: High\n",
    "            #5: Low\n",
    "            #6: Close\n",
    "            #7: Volume\n",
    "            temp = geminiData()\n",
    "            \n",
    "            temp.OpenPrice = float(row[3])\n",
    "            temp.ClosePrice = float(row[6])\n",
    "            temp.OpenPrice = int(temp.OpenPrice)\n",
    "            temp.ClosePrice = int(temp.ClosePrice)\n",
    "            # Gain loss\n",
    "            \n",
    "            temp.GainLoss = temp.OpenPrice - temp.ClosePrice\n",
    "            # Variance\n",
    "            temp.Variance = float(row[4]) - float(row[5])\n",
    "            # Volume \n",
    "            temp.Volume = float( (row[7]))\n",
    "            # Hour\n",
    "            temp.Hour = row[1].split(\" \")[1].split(\":\")[0]\n",
    "            # Day\n",
    "            temp.Day = row[1].split(\" \")[0].split(\"-\")[2]\n",
    "            # Date YYYY-MM-DD ref: https://www.journaldev.com/23365/python-string-to-datetime-strptime\n",
    "            datetime_str = row[1]\n",
    "\n",
    "            datetime_object = datetime.strptime(datetime_str, '20%y-%m-%d %H:%M:%S')\n",
    "\n",
    "             #print(datetime_object)  # printed in default format\n",
    "            \n",
    "            temp.Date = datetime_object\n",
    "            geminiDatas.append(temp) \n",
    "            geminiX =  np.append( geminiX ,[[temp.OpenPrice]], axis = 0)\n",
    "            \n",
    "            innerbatch.append(temp)\n",
    "\n",
    "            if(temp.Hour == '01'):\n",
    "                batches.append(innerbatch)\n",
    "                innerbatch = []\n",
    "                \n",
    "                \n",
    "        else:\n",
    "            line_count += 1\n",
    "            batches.append(innerbatch)"
   ]
  },
  {
   "cell_type": "code",
   "execution_count": 99,
   "metadata": {},
   "outputs": [],
   "source": [
    "t_min, t_max = 0, 30\n",
    "resolution = 0.1\n",
    "\n",
    "n_steps = 20\n",
    "t_instance = np.linspace(12.2, 12.2 + resolution * (n_steps + 1), n_steps + 1)\n",
    "\n",
    "def time_series(t):\n",
    "    return t * np.sin(t) / 3 + 2 * np.sin(t*5)\n",
    "\n",
    "def next_batch(batch_size, n_steps):\n",
    "    Data = np.empty([0,21], float)\n",
    "    for x in range(batch_size):\n",
    "        rand = np.random.randint(len(geminiX)-50)\n",
    "        temp = np.empty([0,1])\n",
    "        for i in range(n_steps+1):\n",
    "            temp =  np.append(temp,geminiX[rand + i])\n",
    "            i += 1\n",
    "        Data = np.append(Data,[temp], axis=0)\n",
    "        x += 1\n",
    "    \n",
    "    return Data[:, :-1].reshape(-1, n_steps, 1), Data[:, 1:].reshape(-1, n_steps, 1)        \n"
   ]
  },
  {
   "cell_type": "code",
   "execution_count": 89,
   "metadata": {},
   "outputs": [
    {
     "name": "stdout",
     "output_type": "stream",
     "text": [
      " temp: (50, 20, 1) \n"
     ]
    }
   ],
   "source": [
    "temp, temp1 = next_batch(50,20)\n",
    "print(f' temp: {temp.shape} ' )"
   ]
  },
  {
   "cell_type": "code",
   "execution_count": 92,
   "metadata": {},
   "outputs": [],
   "source": [
    "#reset_graph()\n",
    "tf.reset_default_graph()\n",
    "\n",
    "n_steps = 20\n",
    "n_inputs = 1\n",
    "n_neurons = 100\n",
    "n_outputs = 1\n",
    "\n",
    "X = tf.placeholder(tf.float32, [None, n_steps, n_inputs])\n",
    "y = tf.placeholder(tf.float32, [None, n_steps, n_outputs])"
   ]
  },
  {
   "cell_type": "code",
   "execution_count": 93,
   "metadata": {},
   "outputs": [
    {
     "name": "stdout",
     "output_type": "stream",
     "text": [
      "\n",
      "WARNING: The TensorFlow contrib module will not be included in TensorFlow 2.0.\n",
      "For more information, please see:\n",
      "  * https://github.com/tensorflow/community/blob/master/rfcs/20180907-contrib-sunset.md\n",
      "  * https://github.com/tensorflow/addons\n",
      "If you depend on functionality not listed there, please file an issue.\n",
      "\n",
      "WARNING:tensorflow:From <ipython-input-93-23da08f31389>:2: BasicRNNCell.__init__ (from tensorflow.python.ops.rnn_cell_impl) is deprecated and will be removed in a future version.\n",
      "Instructions for updating:\n",
      "This class is equivalent as tf.keras.layers.SimpleRNNCell, and will be replaced by that in Tensorflow 2.0.\n"
     ]
    }
   ],
   "source": [
    "cell = tf.contrib.rnn.OutputProjectionWrapper(\n",
    "    tf.nn.rnn_cell.BasicRNNCell(num_units=n_neurons, activation=tf.nn.relu),\n",
    "    output_size=n_outputs)"
   ]
  },
  {
   "cell_type": "code",
   "execution_count": 94,
   "metadata": {},
   "outputs": [
    {
     "name": "stdout",
     "output_type": "stream",
     "text": [
      "WARNING:tensorflow:From <ipython-input-94-f7b88a02a855>:1: dynamic_rnn (from tensorflow.python.ops.rnn) is deprecated and will be removed in a future version.\n",
      "Instructions for updating:\n",
      "Please use `keras.layers.RNN(cell)`, which is equivalent to this API\n",
      "WARNING:tensorflow:From C:\\Users\\ska\\Anaconda3\\lib\\site-packages\\tensorflow\\python\\ops\\tensor_array_ops.py:162: colocate_with (from tensorflow.python.framework.ops) is deprecated and will be removed in a future version.\n",
      "Instructions for updating:\n",
      "Colocations handled automatically by placer.\n"
     ]
    }
   ],
   "source": [
    "outputs, states = tf.nn.dynamic_rnn(cell, X, dtype=tf.float32)"
   ]
  },
  {
   "cell_type": "code",
   "execution_count": 95,
   "metadata": {},
   "outputs": [],
   "source": [
    "learning_rate = 0.001\n",
    "\n",
    "loss = tf.reduce_mean(tf.square(outputs - y)) # MSE\n",
    "optimizer = tf.train.AdamOptimizer(learning_rate=learning_rate)\n",
    "training_op = optimizer.minimize(loss)\n",
    "\n",
    "init = tf.global_variables_initializer()"
   ]
  },
  {
   "cell_type": "code",
   "execution_count": 96,
   "metadata": {},
   "outputs": [],
   "source": [
    "saver = tf.train.Saver()"
   ]
  },
  {
   "cell_type": "code",
   "execution_count": null,
   "metadata": {
    "scrolled": false
   },
   "outputs": [
    {
     "name": "stdout",
     "output_type": "stream",
     "text": [
      "0 \tMSE: 17922150.0\n",
      "100 \tMSE: 354738.3\n",
      "200 \tMSE: 185213.05\n",
      "300 \tMSE: 66612.59\n",
      "400 \tMSE: 5705.38\n",
      "500 \tMSE: 5993.765\n",
      "600 \tMSE: 5715.409\n",
      "700 \tMSE: 1649.9098\n",
      "800 \tMSE: 4196.084\n",
      "900 \tMSE: 3299.8018\n",
      "1000 \tMSE: 3173.5234\n",
      "1100 \tMSE: 3301.56\n",
      "1200 \tMSE: 10278.314\n",
      "1300 \tMSE: 1878.208\n",
      "1400 \tMSE: 2078.4387\n",
      "1500 \tMSE: 1514.036\n",
      "1600 \tMSE: 3749.3044\n",
      "1700 \tMSE: 4382.553\n",
      "1800 \tMSE: 3829.8152\n",
      "1900 \tMSE: 2964.7285\n",
      "2000 \tMSE: 2017.786\n",
      "2100 \tMSE: 3040.4824\n",
      "2200 \tMSE: 2383.264\n",
      "2300 \tMSE: 3652.4714\n",
      "2400 \tMSE: 5945.271\n",
      "2500 \tMSE: 5360.8867\n",
      "2600 \tMSE: 4638.649\n",
      "2700 \tMSE: 5548.334\n",
      "2800 \tMSE: 3845.319\n",
      "2900 \tMSE: 5932.896\n",
      "3000 \tMSE: 12061.515\n",
      "3100 \tMSE: 3559.367\n",
      "3200 \tMSE: 1601.2567\n",
      "3300 \tMSE: 5859.139\n",
      "3400 \tMSE: 4834.009\n",
      "3500 \tMSE: 3458.535\n",
      "3600 \tMSE: 5502.3896\n",
      "3700 \tMSE: 7755.2803\n",
      "3800 \tMSE: 4632.902\n",
      "3900 \tMSE: 4388.1377\n",
      "4000 \tMSE: 5099.067\n",
      "4100 \tMSE: 5033.192\n",
      "4200 \tMSE: 4455.343\n",
      "4300 \tMSE: 3367.619\n",
      "4400 \tMSE: 5806.611\n"
     ]
    }
   ],
   "source": [
    "n_iterations = 5500\n",
    "batch_size = 50\n",
    "\n",
    "with tf.Session() as sess:\n",
    "    init.run()\n",
    "    for iteration in range(n_iterations):\n",
    "        X_batch, y_batch = next_batch(batch_size, n_steps)\n",
    "       # print(X_batch, \"\\t xy:\", y_batch)\n",
    "        sess.run(training_op, feed_dict={X: X_batch, y: y_batch})\n",
    "        if iteration % 100 == 0:\n",
    "            mse = loss.eval(feed_dict={X: X_batch, y: y_batch})\n",
    "            print(iteration, \"\\tMSE:\", mse)\n",
    "    \n",
    "    saver.save(sess, \"./my_time_series_model\") # not shown in the book"
   ]
  },
  {
   "cell_type": "code",
   "execution_count": 106,
   "metadata": {},
   "outputs": [
    {
     "name": "stdout",
     "output_type": "stream",
     "text": [
      "INFO:tensorflow:Restoring parameters from ./my_time_series_model\n"
     ]
    }
   ],
   "source": [
    "with tf.Session() as sess:                          # not shown in the book\n",
    "    saver.restore(sess, \"./my_time_series_model\")   # not shown\n",
    "\n",
    "    X_new = time_series(np.array(t_instance[:-1].reshape(-1, n_steps, n_inputs)))\n",
    "    y_pred = sess.run(outputs, feed_dict={X: X_new})"
   ]
  },
  {
   "cell_type": "code",
   "execution_count": 107,
   "metadata": {},
   "outputs": [
    {
     "data": {
      "text/plain": [
       "array([[[ 0.19827645],\n",
       "        [ 1.3911103 ],\n",
       "        [ 0.04511922],\n",
       "        [ 0.16796482],\n",
       "        [ 0.08840978],\n",
       "        [-0.08797324],\n",
       "        [-0.09302521],\n",
       "        [-0.23235321],\n",
       "        [-0.29889035],\n",
       "        [-0.25642872],\n",
       "        [-0.19774401],\n",
       "        [-0.11859834],\n",
       "        [-0.06098676],\n",
       "        [-0.05418373],\n",
       "        [-0.11261082],\n",
       "        [-0.15637577],\n",
       "        [-0.18060839],\n",
       "        [-0.2591939 ],\n",
       "        [-0.23549652],\n",
       "        [-0.20064634]]], dtype=float32)"
      ]
     },
     "execution_count": 107,
     "metadata": {},
     "output_type": "execute_result"
    }
   ],
   "source": [
    "y_pred"
   ]
  },
  {
   "cell_type": "code",
   "execution_count": 108,
   "metadata": {},
   "outputs": [
    {
     "data": {
      "image/png": "[encoded data removed]",
      "text/plain": [
       "<Figure size 432x288 with 1 Axes>"
      ]
     },
     "metadata": {
      "needs_background": "light"
     },
     "output_type": "display_data"
    }
   ],
   "source": [
    "plt.title(\"Testing the model\", fontsize=14)\n",
    "#plt.plot(t_instance[:-1], time_series(t_instance[:-1]), \"bo\", markersize=10, label=\"instance\")\n",
    "#plt.plot(t_instance[1:], X_batch[0,:,0], \"w*\", markersize=10, label=\"target\")\n",
    "plt.plot(t_instance[1:], y_pred[0,:,0], \"r.\", markersize=10, label=\"prediction\")\n",
    "plt.legend(loc=\"upper left\")\n",
    "plt.xlabel(\"Time\")\n",
    "\n",
    "plt.show()"
   ]
  },
  {
   "cell_type": "code",
   "execution_count": null,
   "metadata": {},
   "outputs": [],
   "source": []
  },
  {
   "cell_type": "code",
   "execution_count": null,
   "metadata": {},
   "outputs": [],
   "source": []
  }
 ],
 "metadata": {
  "kernelspec": {
   "display_name": "Python 3",
   "language": "python",
   "name": "python3"
  },
  "language_info": {
   "codemirror_mode": {
    "name": "ipython",
    "version": 3
   },
   "file_extension": ".py",
   "mimetype": "text/x-python",
   "name": "python",
   "nbconvert_exporter": "python",
   "pygments_lexer": "ipython3",
   "version": "3.6.8"
  }
 },
 "nbformat": 4,
 "nbformat_minor": 2
}
