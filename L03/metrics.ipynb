{
 "cells": [
  {
   "cell_type": "markdown",
   "metadata": {},
   "source": [
    "# ITMAL Exercise\n",
    "\n",
    "\n",
    "REVISIONS|\n",
    "---------|------------------------------------------------\n",
    "2018-1219| CEF, initial.                  \n",
    "2018-0207| CEF, updated.           \n",
    "2018-0207| CEF, rewritten accuracy paradox section.           \n",
    "\n",
    "## Performance Metrics\n",
    "\n",
    "There are a number of frequently uses metrics in ML, namely accuracy, precision, recall and the $F_1$ score. All are called _metrics_ (though they are not true norms, like ${\\cal L}_2$ or ${\\cal L}_1$ we saw last time).\n",
    "\n",
    "Maybe performance _score_ would be a better name than performance metric, at least for the accuracy, precision, recall we will be looking at---emphasising the conceptual distinction between the  _score-function_ and _cost(/loss/error/objective)-function_ (the later is typically a true distance/norm function).  \n",
    "\n",
    "\n",
    "You can find a lot of details on say precision and recall in Wikipedia\n",
    "\n",
    ">  https://en.wikipedia.org/wiki/Precision_and_recall\n",
    "\n",
    "\n",
    "### Nomenclature\n",
    "\n",
    "NAME           |   SYMBOL   | ALIAS\n",
    "---------------| --------------------\n",
    "true positives | $TP$ |\n",
    "true negatives | $TN$ | \n",
    "false positives| $FP$ | type I error \n",
    "false negatives| $FN$ | type II error \n",
    "\n",
    "and $N = N_P + N_N$ being the total number of samples and the number of positive and negative samples\n",
    "respectively.\n",
    "\n",
    "### Precision\n",
    "\n",
    "$$\n",
    "\\def\\ba{\\begin{array}{lll}}\n",
    "\\def\\ea{\\end{array}}\n",
    "\\newcommand{\\rem}[1]{}\n",
    "\\newcommand{\\subtext}[1]{_{\\scriptsize{\\mbox{#1}}}}\n",
    "\\newcommand{\\st}[1]{\\subtext{#1}}\n",
    "\\ba\n",
    " p &= \\frac{TP}{TP + FP}\n",
    "\\ea\n",
    "$$\n",
    "\n",
    "### Recall or Sensitivity\n",
    "\n",
    "$$\n",
    "  \\ba\n",
    "    r &= \\frac{TP}{TP + FN}\\\\\n",
    "      &= \\frac{TP}{TP + FN}\\\\ \n",
    "      &= \\frac{TP}{N_P}\n",
    "  \\ea\n",
    "$$\n",
    "\n",
    "### Accuracy\n",
    "\n",
    "$$\n",
    "  \\ba\n",
    "      a &= \\frac{TP + TN}{TP + TN + FP + FN}\\\\\n",
    "        &= \\frac{TP + TN}{N}\\\\\n",
    "        &= \\frac{TP + TN}{N_P + N_N} \n",
    "  \\ea\n",
    "$$\n",
    "\n",
    "#### Accuracy Paradox\n",
    "\n",
    "A static constant model, say $p\\st{cancer}=0$ may have higher accuracy than a real model with predictive power. This is odd!\n",
    "\n",
    "Asymmetric weight could also be associated with the false positive and false negative predictions, yielding either FP of FN much more expensive than the other. Say, it is more expensive not to treat a person with cancer, than treating a person without cancer. \n",
    "\n",
    "### F-score\n",
    "\n",
    "General $\\beta$-harmonic mean of the precision and recall \n",
    "$$\n",
    "    F_\\beta = (1+\\beta^2) \\frac{2pr}{\\beta^2 p+r}\\\\\n",
    "$$ \n",
    "that for say $\\beta=2$ or $\\beta=0.5$ shifts or skews the emphasis on the two variables in the equation. Normally only the $\\beta=1$ harmonic mean is used\n",
    "\n",
    "$$\n",
    "  \\ba\n",
    "    F_1     &= \\frac{2pr}{p+r}\\\\\n",
    "            &=\\frac{2}{1/p + 1/r}\n",
    "  \\ea\n",
    "$$\n",
    "with $F$ typically being synonymous with $F_1$. \n",
    "\n",
    "If needed, find more info on Wikipedia\n",
    "\n",
    "> https://en.wikipedia.org/wiki/F1_score\n",
    "\n",
    "\n",
    "## Confusion Matrix\n",
    "\n",
    "For statistical classification, the confusion matrix or error matrix (or\n",
    "matching matrix in unsupervised learning) is for a two-class problem given by\n",
    "the $2\\times2$ matrix with dimensions 'actual' and 'predicted'\n",
    "\n",
    "$$   \n",
    "{\\bf M}\\st{confusion} = \n",
    "\\begin{array}{l|ll}\n",
    "                           & \\mbox{actual true} & \\mbox{actual false} \\\\ \\hline\n",
    "    \\mbox{predicted true}  & TP & FP \\\\     \n",
    "    \\mbox{predicted false} & FN & TN \n",
    "\\end{array}\n",
    "$$\n",
    "\n",
    "The diagonal, in the square matrix, represent predicted values being the same\n",
    "as the actual values, off-diagonal elements represent erroneous prediction.\n",
    "\n",
    "For N-class classification the matrix gives a matrix with $N$ actual\n",
    "classes and $N$ predicted classes\n",
    "\n",
    "$$\n",
    "{\\bf M}\\st{confusion} =\n",
    "  \\left[\n",
    "  \\begin{array}{llll}\n",
    "       c_{11} & c_{12} & \\cdots & c_{1n} \\\\ \n",
    "       c_{21} & c_{22} & \\cdots & c_{2n} \\\\\n",
    "       \\vdots & \\vdots & \\ddots & \\vdots \\\\\n",
    "       c_{n1} & c_{n2} & \\cdots & c_{nn} \\\\ \n",
    "  \\end{array}\n",
    "  \\right]\n",
    "$$\n",
    "with say element $c_{21}$ being the number of actual classes '1' being predicted (erroneously) as class '2'.\n",
    "\n",
    "### Nomenclature for the Confusion Matrix\n",
    "\n",
    "The naming of the elements in the confusion matrix can be rather exotic, like _false omission rate_ (see the figure below), but we won't get to such detail here...let us stick with TP, TN, FP, FN and $F_1$!\n",
    "\n",
    "<img src=\"Figs/performance_metrics.png\" style=\"width:900px\">\n",
    "\n",
    "If you need more info on the confusion matrix:\n",
    "\n",
    ">  https://en.wikipedia.org/wiki/Confusion_matrix\n",
    "\n",
    "#### Qa Implement the Accuracy function and test it on the MNIST data.\n",
    "\n",
    "Implement a general accuracy function `MyAccuracy`, that takes `y_pred` and `y_true` as input parameters.\n",
    "\n",
    "Reuse your MNIST data loader and test the `MyAccuracy` function  both on your dummy classifier and on the Stochastic Gradient Descent classifier (with setup parameters as in [HOLM])."
   ]
  },
  {
   "cell_type": "code",
   "execution_count": 1,
   "metadata": {},
   "outputs": [
    {
     "name": "stdout",
     "output_type": "stream",
     "text": [
      "started\n",
      "loaded\n"
     ]
    }
   ],
   "source": [
    "# fetch once , takes long\n",
    "from sklearn.datasets import fetch_openml\n",
    "from sklearn.datasets import fetch_mldata\n",
    "print('started')\n",
    "X , y_true = fetch_openml('mnist_784', version=1, cache=True, return_X_y=True)\n",
    "print('loaded')"
   ]
  },
  {
   "cell_type": "code",
   "execution_count": 2,
   "metadata": {},
   "outputs": [],
   "source": [
    "from sklearn.base import BaseEstimator\n",
    "from sklearn.model_selection import train_test_split\n",
    "from sklearn import linear_model\n",
    "import numpy as np\n",
    "\n",
    "clf = linear_model.SGDClassifier(max_iter=1000,tol=1e-3)"
   ]
  },
  {
   "cell_type": "code",
   "execution_count": 3,
   "metadata": {},
   "outputs": [
    {
     "name": "stdout",
     "output_type": "stream",
     "text": [
      "started\n",
      "split done\n",
      "søren fit\n",
      "[False False False ... False False False]\n",
      "clf fit\n"
     ]
    }
   ],
   "source": [
    "# TODO: Qa...\n",
    "from sklearn.metrics import accuracy_score\n",
    "print('started')\n",
    "\n",
    "# X = X.reshape((X.shape[0],X.shape[1]*X.shape[2]))\n",
    "X_train,X_test,y_train,y_test = train_test_split(X,y_true,test_size=0.2,shuffle=True)\n",
    "y_train5 = (y_train == '5' ) # we only wish for one class not 10\n",
    "y_test5 = (y_test == '5')\n",
    "print ('split done')\n",
    "\n",
    "class DummyClassifier(BaseEstimator):\n",
    "    def fit(self,X, y=None):\n",
    "        pass\n",
    "    def predict(self,X):\n",
    "        return np.zeros((len(X),1), dtype=bool)\n",
    "\n",
    "soren = DummyClassifier()    \n",
    "\n",
    "\n",
    "soren.fit(X_train,y_train5)\n",
    "y_pred = soren.predict(X_test)\n",
    "\n",
    "print('søren fit')\n",
    "\n",
    "clf.fit(X_train,y_train5)\n",
    "y_pred_SGD = clf.predict(X_test)\n",
    "print(y_pred_SGD)\n",
    "print ('clf fit')\n",
    "    \n",
    "    \n",
    "\n",
    "    \n"
   ]
  },
  {
   "cell_type": "code",
   "execution_count": 4,
   "metadata": {},
   "outputs": [],
   "source": [
    "def PerformanceMeasure(y_pred, y_true):\n",
    "    cm = confusion_matrix(y_pred,y_true)\n",
    "    TP = cm[0][0]\n",
    "    TN = cm[1][1]\n",
    "    FP = cm[0][1]\n",
    "    FN = cm[1][0]\n",
    "    return TP, TN, FP, FN\n"
   ]
  },
  {
   "cell_type": "code",
   "execution_count": 5,
   "metadata": {},
   "outputs": [
    {
     "name": "stdout",
     "output_type": "stream",
     "text": [
      "testing accuracy\n",
      "\n",
      "my a          = 0.9101428571428571\n",
      "scikit-learn a= 0.9101428571428571\n",
      "\n",
      "my a          = 0.9682142857142857\n",
      "scikit-learn a= 0.9682142857142857\n",
      "done\n"
     ]
    }
   ],
   "source": [
    "import sys,os\n",
    "sys.path.append(os.path.expanduser('..\\\\MachineLearning'))\n",
    "\n",
    "\n",
    "from libitmal import utils as itmalutils\n",
    "from sklearn.metrics import confusion_matrix\n",
    "\n",
    "def MyAccuracy(y_pred, y_true):\n",
    "    # TODO: you impl here\n",
    "    TP, TN, FP, FN = PerformanceMeasure(y_pred, y_true)\n",
    "    return ((TP + TN) / (TP + TN+FN + FP))\n",
    "\n",
    "\n",
    "# TEST FUNCTION: compare with Scikit-learn accuracy_score\n",
    "def TestAccuracy(y_pred, y_true):\n",
    "    a0=MyAccuracy(y_pred, y_true)\n",
    "    a1=accuracy_score(y_pred, y_true)\n",
    "#\n",
    "    print(\"\\nmy a          =\",a0)\n",
    "    print(\"scikit-learn a=\",a1)\n",
    "#\n",
    "    itmalutils.InRange(a0,a1)\n",
    "\n",
    "print ('testing accuracy')    \n",
    "TestAccuracy(y_pred,y_test5)\n",
    "TestAccuracy(y_pred_SGD,y_test5)\n",
    "print('done')"
   ]
  },
  {
   "cell_type": "markdown",
   "metadata": {},
   "source": [
    "#### Qb Implement Precision, Recall and $F_1$-score and test it on the MNIST data.\n",
    "\n",
    "Now, implement the `MyPrecision`, `MyRecall` and `MyF1Score` functions, again taking MNIST as input, using the SGD and the Dummy classifiers and make some test vectors to compare to the functions found in Scikit-learn..."
   ]
  },
  {
   "cell_type": "code",
   "execution_count": 6,
   "metadata": {},
   "outputs": [
    {
     "name": "stdout",
     "output_type": "stream",
     "text": [
      "dummy precision 1.0\n",
      "SGD precision 0.9950557212368545\n",
      "dummy Recall 0.9101428571428571\n",
      "SGD Recall 0.9707526223106959\n",
      "dummy f1 0.9529578939495925\n",
      "SGD f1 0.9827539433399215\n"
     ]
    }
   ],
   "source": [
    "# TODO: Qb..\n",
    "\n",
    "def MyPrecision(y_pred, y_true):\n",
    "    TP, TN, FN,FP = PerformanceMeasure(y_pred,y_true)\n",
    "    return TP/(TP+FP)\n",
    "\n",
    "def MyRecall(y_pred, y_true):\n",
    "    TP, TN, FN,FP = PerformanceMeasure(y_pred,y_true)\n",
    "    return TP/(TP+FN)\n",
    "    \n",
    "def MyF1Score(y_pred, y_true):\n",
    "    TP, TN, FN,FP = PerformanceMeasure(y_pred,y_true)\n",
    "    return 2/((1/MyPrecision(y_pred, y_true))+(1/MyRecall(y_pred, y_true)))\n",
    "\n",
    "# TODO: your test code here!\n",
    "print('dummy precision' , MyPrecision(y_pred,y_test5))\n",
    "print('SGD precision' , MyPrecision(y_pred_SGD,y_test5))\n",
    "\n",
    "print('dummy Recall' , MyRecall(y_pred,y_test5))\n",
    "print('SGD Recall' , MyRecall(y_pred_SGD,y_test5))\n",
    "\n",
    "print('dummy f1' , MyF1Score(y_pred,y_test5))\n",
    "print('SGD f1' , MyF1Score(y_pred_SGD,y_test5))"
   ]
  },
  {
   "cell_type": "markdown",
   "metadata": {},
   "source": [
    "#### Qc The Confusion Matrix\n",
    "\n",
    "Revisit your solution to Qb in the `dummy_classifier.ipynb`. Did you manage to print the confusion matrix for both the Dummy and the SGD classifier?\n",
    "\n",
    "I got the two confusion matrices\n",
    "\n",
    "```\n",
    "M_dummy=[[18166     0]\n",
    "        [ 1834     0]]\n",
    "   \n",
    "M_SDG=[[17618   548]\n",
    "      [  267  1567]]\n",
    "\n",
    "```\n",
    "your data may look similar (but not 100% equal). See if you can print the confusion matrix (some test code below for inspiration).\n",
    "\n",
    "How are the Scikit-learn confusion matrix organized, where are the TP, FP, FN and TN located in the matrix indices, and what happens if you mess up the parameters calling\n",
    "\n",
    "```python\n",
    "confusion_matrix(y_train_pred, y_train_5)\n",
    "```\n",
    "\n",
    "instead of \n",
    "```python\n",
    "confusion_matrix(y_train_5, y_train_pred)\n",
    "```\n",
    "\n",
    "Finally, compare the real and symmetric auto-covariance matrix, $\\Sigma$, with the real but non-symmetric confusion matrix, $\\mathbf{M}$. What does the diagonal represent in the covar- and confusion matrix respectively, and why is the covar- symmetric, but the confusion not? "
   ]
  },
  {
   "cell_type": "code",
   "execution_count": 18,
   "metadata": {},
   "outputs": [
    {
     "name": "stdout",
     "output_type": "stream",
     "text": [
      "M=[[12679   382]\n",
      "   [   63   876]]\n"
     ]
    }
   ],
   "source": [
    "# TODO: Qc\n",
    "\n",
    "# TEST CODE: some demo code to produce a 'test' confusion matrix using the SGD model \n",
    "import matplotlib.pyplot as plt\n",
    "\n",
    "M=confusion_matrix(y_pred_SGD,y_test5)\n",
    "itmalutils.PrintMatrix(M,\"M=\")\n",
    "\n",
    "\n"
   ]
  },
  {
   "cell_type": "markdown",
   "metadata": {},
   "source": [
    "#### Qd A Confusion Matrix Heat-map\n",
    "\n",
    "Generate a _heat map_ image for the confusion matrices, `M_dummy` and `M_SGD` respectively, getting inspiration from [HOML], pp96-97.\n",
    "\n",
    "This heat map could be an important guide for you when analysing multiclass data in the future."
   ]
  },
  {
   "cell_type": "code",
   "execution_count": 17,
   "metadata": {},
   "outputs": [
    {
     "data": {
      "image/png": "[encoded data removed]",
      "text/plain": [
       "<Figure size 288x288 with 1 Axes>"
      ]
     },
     "metadata": {
      "needs_background": "light"
     },
     "output_type": "display_data"
    }
   ],
   "source": [
    "# TODO: Qd\n",
    "plt.matshow(M,cmap=plt.cm.gray)\n",
    "plt.show() # her ses det flest TP, hvilket giver god mening når det 5 og ikke 5"
   ]
  },
  {
   "cell_type": "markdown",
   "metadata": {},
   "source": [
    "#### Qe Run a classifier on your data\n",
    "\n",
    "Finally, try to run a classifier on the data-set you selected previously, perhaps starting with the SGD.\n",
    "\n",
    "Is it possible to classify at all on your data, or do we need regression instead?\n",
    "\n",
    "Are you able to do supervised learning, or are there no obvious `y_true` data in your set at all?\n",
    "\n",
    "If your data is in the form, where you are able to do supervised-classification, could you produce a confusion matrix heatmap, then?"
   ]
  },
  {
   "cell_type": "code",
   "execution_count": 19,
   "metadata": {},
   "outputs": [
    {
     "data": {
      "text/plain": [
       "numpy.ndarray"
      ]
     },
     "execution_count": 19,
     "metadata": {},
     "output_type": "execute_result"
    }
   ],
   "source": [
    "# TODO: Qe...\n",
    "type(M)"
   ]
  }
 ],
 "metadata": {
  "kernelspec": {
   "display_name": "Python 3",
   "language": "python",
   "name": "python3"
  },
  "language_info": {
   "codemirror_mode": {
    "name": "ipython",
    "version": 3
   },
   "file_extension": ".py",
   "mimetype": "text/x-python",
   "name": "python",
   "nbconvert_exporter": "python",
   "pygments_lexer": "ipython3",
   "version": "3.7.1"
  },
  "toc": {
   "base_numbering": 1,
   "nav_menu": {},
   "number_sections": true,
   "sideBar": true,
   "skip_h1_title": false,
   "title_cell": "Table of Contents",
   "title_sidebar": "Contents",
   "toc_cell": false,
   "toc_position": {},
   "toc_section_display": true,
   "toc_window_display": true
  }
 },
 "nbformat": 4,
 "nbformat_minor": 2
}
