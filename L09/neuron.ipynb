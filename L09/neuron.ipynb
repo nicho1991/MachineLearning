{
 "cells": [
  {
   "cell_type": "markdown",
   "metadata": {},
   "source": [
    "# ITMAL Exercise\n",
    "\n",
    "REVISIONS| |\n",
    "---------| |\n",
    "2018-0318| CEF, initial.\n",
    "2018-0321| CEF, updated and split into neurons and perceptrons.\n",
    "2018-0323| CEF, minor updated and spell checked.\n",
    "2018-0325| CEF, made communication sub-question optional, and minor text changes.\n",
    "\n",
    "## On Neurons, Biology and Cognition\n",
    "\n",
    "The biological aspects of neurons and neural networks are fascinating. Below are a couple of open-ended questions about the fundamental biological systems and processes, that allows us, humans, to think, learn, recon and understand our surroundings.\n",
    "\n",
    "While the biological systems played an important part in modelling neurons, say via Rosenblatt's Perceptron, there is no reason why our artificial systems should be purely limited to the biological model: any technical improvement in 'software' over the biological models can be put into play.\n",
    "\n",
    "We try to beat biology in the next two sets of exercises, but first, let us make some philosophical reflections on the ___biological model___.\n",
    "\n",
    "### Qa The Biological Neurons and the Human Brain\n",
    "\n",
    "Describe, in plain not-too-biological terms, the structure of a biological neuron. For inspiration use the following figure. \n",
    "\n",
    "In broad terms, how does a neuron communicate? \n",
    "\n",
    "[OPTIONAL] In more details, communication through what medium using what signals?\n",
    "\n",
    "<img src=\"Figs/Chemical_synapse_schema_cropped.jpg\" style=\"width:400px\">\n",
    "<small><em>\n",
    "    <center> A signal propagating down an axon to the cell body and dendrites of the next cell </center> \n",
    "    <center><xsmall> [ https://en.wikipedia.org/wiki/Neuron#/media/File:Chemical_synapse_schema_cropped.jpg ] </xsmall></center>\n",
    "</em></small>\n",
    "\n",
    "Then explain, again with the wording of an engineer, not a biologist, how the neurons are structured in the brain. \n",
    "\n",
    "<img src=\"Figs/Gyrus_Dentatus_40x.jpg\" style=\"width:400px\">\n",
    "<small><em>\n",
    "    <center> Golgi-stained neurons in human hippocampal tissue. </center> \n",
    "    <center> [ https://en.wikipedia.org/wiki/Neuron#/media/File:Gyrus_Dentatus_40x.jpg ] </center>\n",
    "</em></small>\n",
    "\n",
    "Keep the answer rather brief, unless you find the subject so interesting, that you feel an urge to investigate! "
   ]
  },
  {
   "cell_type": "markdown",
   "metadata": {},
   "source": [
    "### Forklaring\n",
    "\n",
    "Et neuron kommunikerer ved at \"tilfældige\" energi udladninger sender besked til neuronen om at videresende eller produceret et stof (en besked), som den sender videre til enten andre neuroner eller ud i kroppen, dette sker i synapsen. synapsen er mellemrummet mellem to neuroner. et neuron transmitter et stof over synapsen til en receptor i en anden neuron. dette er den besked, som der kommunikeres med mellem neuroner. \n",
    "\n",
    "en meget kort forklaring om neuroner set fra en ingeniør, ville nok være at se neuroner som microchips, hvor synapser er de gates, som forbinder selv samme chips, så der kommer en energiladning med en besked fra en microchip som genereres \"tilfældigt\" og alt efter sammen faldet mellem energi udledning og hvilket gate, den rammer bestemmer beskeden. dette er mere struktureret end \"tilfældigt\", men dette kræver en bedre forståelse af biologi til at kunne beskrive i store detajle."
   ]
  },
  {
   "cell_type": "markdown",
   "metadata": {},
   "source": [
    "### Qb On Cognition\n",
    "\n",
    "Write an ultra-short essay on cognition, no more than 10-20 lines. \n",
    "\n",
    "Using the definition from Wikipedia:\n",
    "\n",
    "> <em>Cognition is \"the mental action or process of acquiring knowledge and understanding through thought, experience, and the senses...\"<br>[https://en.wikipedia.org/wiki/Cognition]\n",
    "</em>\n",
    "\n",
    "Now, explaining cognition is still a pretty impossible philosophical question to answer. So you should answer this question: __what is your understanding of cognition?__\n",
    "\n",
    "If we reproduce biological neurons, and just make enough of them, in your opinion, will a machine ever be able to have _cognition_?  "
   ]
  },
  {
   "cell_type": "markdown",
   "metadata": {},
   "source": [
    "### Forklaring \n",
    "\n",
    "kognition er evnen til at forstå, det er i sig selv et filosofisk beskrivelse. men for at gøre det så simplet som muligt, så er forståelse mere end bare at kunne genkende, det er lige såvel at kunne associaserer det man ser og oplever med tilsvarende oplevelse at kunne skabe forbindelser imellem umiddelbare usammenhængende ting, igennem det man ville kunne intuition. Der er grader at den slags. dyr har en kognativ forståelse for visse opgaver og deres association. (godbider) dette er dog en slags intuition. hvor mennesker intuition er væsentlig anderledes. da der findes sociale og dyriske associationer samt intellektuel intuition (logisk). Disse intuitioner kan ikke genskabes ved at skabe flere neuroner, da desto store hjernen er, er ikke lig med ens kognative evner. man kan sige at ML tillader maskiner at have dyriske associationer, i form af supervised/ semi-supervised learning / back-propergation. ved at bekræfte overfor maskinen at den laver den rigtige association. Som vil kunne skabe en form for intuition til at løse specifikke opgaver. men maskinen lærer ikke at associaere på et højere plan.\n",
    "Som ikke løses ved mere hjernekapicitet. muligvis ved en anden forståelse af læring af maskinen eller hukommenelse og evnen til at skabe \"tilfældige\" assiciationer. \n"
   ]
  },
  {
   "cell_type": "markdown",
   "metadata": {},
   "source": [
    "### [OPTIONAL] Qc More on Neurons and Cognition\n",
    "\n",
    "You might find it interesting to go into the biological details of the human brain. If so, you can choose to elaborate on neurons and the human brain here, and then NOT making the Keras exercises \n",
    "\n",
    "> 'mlp_mnist.ipynb'\n",
    "\n",
    "If you opt for this Qc exercise, instead of 'mlp_mnist.ipynb', then write a longer (two or more a4 pages) essay on neurons and the human brain, and discussion on issues like \n",
    "\n",
    "* the biological neuron, \n",
    "* brain tissue, \n",
    "* networks in the brain\n",
    "\n",
    "or any other neuron/brain issue you find interesting to investigate. \n",
    "\n",
    "But ___do___ comment on how the artificial neuron relates to the biological neuron."
   ]
  },
  {
   "cell_type": "code",
   "execution_count": 1,
   "metadata": {},
   "outputs": [],
   "source": [
    "# NOTE: [OPTIONAL] Qc..as an essay"
   ]
  }
 ],
 "metadata": {
  "kernelspec": {
   "display_name": "Python 3",
   "language": "python",
   "name": "python3"
  },
  "language_info": {
   "codemirror_mode": {
    "name": "ipython",
    "version": 3
   },
   "file_extension": ".py",
   "mimetype": "text/x-python",
   "name": "python",
   "nbconvert_exporter": "python",
   "pygments_lexer": "ipython3",
   "version": "3.7.1"
  },
  "varInspector": {
   "cols": {
    "lenName": 16,
    "lenType": 16,
    "lenVar": 40
   },
   "kernels_config": {
    "python": {
     "delete_cmd_postfix": "",
     "delete_cmd_prefix": "del ",
     "library": "var_list.py",
     "varRefreshCmd": "print(var_dic_list())"
    },
    "r": {
     "delete_cmd_postfix": ") ",
     "delete_cmd_prefix": "rm(",
     "library": "var_list.r",
     "varRefreshCmd": "cat(var_dic_list()) "
    }
   },
   "types_to_exclude": [
    "module",
    "function",
    "builtin_function_or_method",
    "instance",
    "_Feature"
   ],
   "window_display": true
  }
 },
 "nbformat": 4,
 "nbformat_minor": 2
}
